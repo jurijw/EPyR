{
 "cells": [
  {
   "cell_type": "code",
   "execution_count": 2,
   "metadata": {},
   "outputs": [],
   "source": [
    "import numpy as np"
   ]
  },
  {
   "cell_type": "code",
   "execution_count": 8,
   "metadata": {},
   "outputs": [
    {
     "data": {
      "text/plain": [
       "array([1., 0., 0., 0., 0., 0., 0., 0.])"
      ]
     },
     "execution_count": 8,
     "metadata": {},
     "output_type": "execute_result"
    }
   ],
   "source": [
    "N = 3\n",
    "state = np.zeros(2**N)\n",
    "state[0] = 1\n",
    "state"
   ]
  },
  {
   "cell_type": "code",
   "execution_count": 14,
   "metadata": {},
   "outputs": [
    {
     "name": "stdout",
     "output_type": "stream",
     "text": [
      "[0.70710678 0.70710678]\n",
      "[ 0.70710678 -0.70710678]\n"
     ]
    }
   ],
   "source": [
    "H = 1/np.sqrt(2) * np.array([[1, 1], [1, -1]])\n",
    "print(U[0])\n",
    "print(U[1])\n"
   ]
  },
  {
   "cell_type": "code",
   "execution_count": 13,
   "metadata": {},
   "outputs": [],
   "source": [
    "def apply_general_one_qubit_gate_in_place(state, U, target_index, N):\n",
    "    \"\"\"\n",
    "    Applies a 1-qubit quantum gate U to a state vector. Mutates the state vector \n",
    "    in place, so as to avoid larger matrix multiplications. Algorithm is \n",
    "    linear in the number of entries in the state vector, in terms of both time \n",
    "    and space.\n",
    "\n",
    "    Runtime complexity: O(2^N) \n",
    "    Space complexity:   O(2^N) \n",
    "\n",
    "    state:              a vector of length 2^N, where the ith entry gives the\n",
    "                        probability amplitude to measure the system in the ith \n",
    "                        basis state. (In the computational basis)\n",
    "    U:                  a 2x2 unitary matrix, representing the 1-qubit gate.\n",
    "    target_index:       the index of the qubit on which the gate is applied.\n",
    "                        Indexing from 0.\n",
    "    N:                  the number of qubits\n",
    "    \"\"\"\n",
    "    # TODO: consider checking if U is diagonal.\n",
    "    pair_index_delta = 2 ** target_index\n",
    "    jump_size = 2 ** (target_index + 1)\n",
    "    num_jumps = 2 ** (N - (target_index + 1))\n",
    "\n",
    "    u00, u01 = U[0]\n",
    "    u10, u11 = U[1]\n",
    "    # Iterate over the basis states. The gate acts on pairs of\n",
    "    # basis states, whose binary representation differs exactly\n",
    "    # in the bit with index target_index.\n",
    "    for m in range(num_jumps):\n",
    "        for n in range(pair_index_delta):\n",
    "            j = m * jump_size + n\n",
    "            j_prime = j + pair_index_delta\n",
    "            alpha_j = state[j]\n",
    "            alpha_j_prime = state[j_prime]\n",
    "            state[j] = alpha_j * u00 + alpha_j_prime * u01\n",
    "            state[j_prime] = alpha_j * u10 + alpha_j_prime * u11"
   ]
  },
  {
   "cell_type": "code",
   "execution_count": 16,
   "metadata": {},
   "outputs": [
    {
     "name": "stdout",
     "output_type": "stream",
     "text": [
      "[1. 0. 0. 0. 0. 0. 0. 0.]\n",
      "[0.70710678 0.70710678 0.         0.         0.         0.\n",
      " 0.         0.        ]\n"
     ]
    }
   ],
   "source": [
    "# Test the gate\n",
    "N = 3\n",
    "state = np.zeros(2**N)\n",
    "state[0] = 1\n",
    "print(state)\n",
    "apply_general_one_qubit_gate_in_place(state, H, 0, 3)\n",
    "print(state)"
   ]
  },
  {
   "cell_type": "code",
   "execution_count": 17,
   "metadata": {},
   "outputs": [
    {
     "name": "stdout",
     "output_type": "stream",
     "text": [
      "[1. 0. 0. 0. 0. 0. 0. 0.]\n",
      "[0.70710678 0.         0.70710678 0.         0.         0.\n",
      " 0.         0.        ]\n"
     ]
    }
   ],
   "source": [
    "# Test the gate\n",
    "N = 3\n",
    "state = np.zeros(2**N)\n",
    "state[0] = 1\n",
    "print(state)\n",
    "apply_general_one_qubit_gate_in_place(state, H, 1, 3)\n",
    "print(state)"
   ]
  },
  {
   "cell_type": "code",
   "execution_count": null,
   "metadata": {},
   "outputs": [],
   "source": [
    "def apply_general_two_qubit_gate_in_place(state, U, q0, q1, N):\n",
    "    \"\"\"\n",
    "    Apply the two-qubit gate U to qubits with index q0 and q1 for\n",
    "    an N qubit state. Performs this operation in-place, mutating\n",
    "    the state vector, to avoid large matrix multiplication.\n",
    "    \"\"\"\n",
    "    for i0 in range(2 ** q1):\n",
    "        for i1 in range(2 ** (q1 - q0 - 1)):\n",
    "            for i2 in range(2 ** ((N - 1) - q1)):\n",
    "                l = i0 + 2 ** (q0 + 1) * i1 + 2 ** (q1 + 1) * i2\n",
    "                # Create a vector of relevant alpha_js\n",
    "                # Below, j(b_q0)(b_q1) represents the index of the\n",
    "                # basis state for fixed i0, i1, i2 and with the\n",
    "                # bits in position q0 and q1 being b_q0 and b_q1 \n",
    "                j00 = l + 2 ** q0 * 0 + 2 ** q1 * 0\n",
    "                j01 = l + 2 ** q0 * 0 + 2 ** q1 * 1\n",
    "                j10 = l + 2 ** q0 * 1 + 2 ** q1 * 0\n",
    "                j11 = l + 2 ** q0 * 1 + 2 ** q1 * 1\n",
    "\n",
    "                j = np.array([j00, j01, j10, j11])\n",
    "                # Update all alpha_js by applying the U gate\n",
    "                state[j] = U @ state[j]\n",
    "                # Replace the alpha_js in the state vector\n",
    "                "
   ]
  },
  {
   "cell_type": "code",
   "execution_count": null,
   "metadata": {},
   "outputs": [],
   "source": []
  },
  {
   "cell_type": "code",
   "execution_count": 14,
   "metadata": {},
   "outputs": [
    {
     "name": "stdout",
     "output_type": "stream",
     "text": [
      "[0 1 2 3 4 5 6 7]\n",
      "[ 0  1  4  3  4 10 12  7]\n"
     ]
    }
   ],
   "source": [
    "state = np.arange(8)\n",
    "print(state)\n",
    "indexes = np.array([0, 2, 5, 6])\n",
    "state[indexes] = 2 * np.eye(4) @ state[indexes]\n",
    "print(state)"
   ]
  },
  {
   "cell_type": "code",
   "execution_count": null,
   "metadata": {},
   "outputs": [],
   "source": []
  }
 ],
 "metadata": {
  "kernelspec": {
   "display_name": "epyr-venv-3.11.3",
   "language": "python",
   "name": "python3"
  },
  "language_info": {
   "codemirror_mode": {
    "name": "ipython",
    "version": 3
   },
   "file_extension": ".py",
   "mimetype": "text/x-python",
   "name": "python",
   "nbconvert_exporter": "python",
   "pygments_lexer": "ipython3",
   "version": "3.11.3"
  },
  "orig_nbformat": 4
 },
 "nbformat": 4,
 "nbformat_minor": 2
}
