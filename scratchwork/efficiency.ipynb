{
 "cells": [
  {
   "cell_type": "code",
   "execution_count": 1,
   "metadata": {},
   "outputs": [],
   "source": [
    "import numpy as np"
   ]
  },
  {
   "cell_type": "code",
   "execution_count": 8,
   "metadata": {},
   "outputs": [
    {
     "data": {
      "text/plain": [
       "array([1., 0., 0., 0., 0., 0., 0., 0.])"
      ]
     },
     "execution_count": 8,
     "metadata": {},
     "output_type": "execute_result"
    }
   ],
   "source": [
    "N = 3\n",
    "state = np.zeros(2**N)\n",
    "state[0] = 1\n",
    "state"
   ]
  },
  {
   "cell_type": "code",
   "execution_count": 14,
   "metadata": {},
   "outputs": [
    {
     "name": "stdout",
     "output_type": "stream",
     "text": [
      "[0.70710678 0.70710678]\n",
      "[ 0.70710678 -0.70710678]\n"
     ]
    }
   ],
   "source": [
    "H = 1/np.sqrt(2) * np.array([[1, 1], [1, -1]])\n",
    "print(U[0])\n",
    "print(U[1])\n"
   ]
  },
  {
   "cell_type": "code",
   "execution_count": 13,
   "metadata": {},
   "outputs": [],
   "source": [
    "def apply_general_one_qubit_gate_in_place(state, U, target_index, N):\n",
    "    \"\"\"\n",
    "    Applies a 1-qubit quantum gate to a state vector.\n",
    "    Mutates the state vector in place, so as to avoid\n",
    "    larger matrix multiplications.\n",
    "    state:          a vector of length 2^N, where the ith entry gives the\n",
    "                    probability amplitude to measure the system in the ith \n",
    "                    basis state. (In the computational basis)\n",
    "    U:              a 2x2 unitary matrix, representing the 1-qubit gate.\n",
    "    target_index:   the index of the qubit on which the gate is applied.\n",
    "                    Indexing from 0.\n",
    "    N:              the number of qubits\n",
    "    \"\"\"\n",
    "    # TODO: consider checking if U is diagonal.\n",
    "    pair_index_delta = 2 ** target_index\n",
    "    jump_size = 2 ** (target_index + 1)\n",
    "    num_jumps = 2 ** (N - (target_index + 1))\n",
    "\n",
    "    # Iterate over the basis states. The gate acts on pairs of \n",
    "    # basis states, whose binary representation differs exactly\n",
    "    # in the bit with index target_index.\n",
    "    for m in range(num_jumps):\n",
    "        for n in range(pair_index_delta): \n",
    "            j = m * jump_size + n\n",
    "            j_prime = j + pair_index_delta\n",
    "            alpha_j = state[j]\n",
    "            alpha_j_prime = state[j_prime]\n",
    "            u00, u01 = U[0]\n",
    "            u10, u11 = U[1]\n",
    "            state[j] = alpha_j * u00 + alpha_j_prime * u01\n",
    "            state[j_prime] = alpha_j * u10 + alpha_j_prime * u11\n"
   ]
  },
  {
   "cell_type": "code",
   "execution_count": 16,
   "metadata": {},
   "outputs": [
    {
     "name": "stdout",
     "output_type": "stream",
     "text": [
      "[1. 0. 0. 0. 0. 0. 0. 0.]\n",
      "[0.70710678 0.70710678 0.         0.         0.         0.\n",
      " 0.         0.        ]\n"
     ]
    }
   ],
   "source": [
    "# Test the gate\n",
    "N = 3\n",
    "state = np.zeros(2**N)\n",
    "state[0] = 1\n",
    "print(state)\n",
    "apply_general_one_qubit_gate_in_place(state, H, 0, 3)\n",
    "print(state)"
   ]
  },
  {
   "cell_type": "code",
   "execution_count": null,
   "metadata": {},
   "outputs": [],
   "source": [
    "# Test the gate\n",
    "N = 3\n",
    "state = np.zeros(2**N)\n",
    "state[0] = 1\n",
    "print(state)\n",
    "apply_general_one_qubit_gate_in_place(state, H, 1, 3)\n",
    "print(state)"
   ]
  }
 ],
 "metadata": {
  "kernelspec": {
   "display_name": "epyr-venv-3.11.3",
   "language": "python",
   "name": "python3"
  },
  "language_info": {
   "codemirror_mode": {
    "name": "ipython",
    "version": 3
   },
   "file_extension": ".py",
   "mimetype": "text/x-python",
   "name": "python",
   "nbconvert_exporter": "python",
   "pygments_lexer": "ipython3",
   "version": "3.11.3"
  },
  "orig_nbformat": 4
 },
 "nbformat": 4,
 "nbformat_minor": 2
}
