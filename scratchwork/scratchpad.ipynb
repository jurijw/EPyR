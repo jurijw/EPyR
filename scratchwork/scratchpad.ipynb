{
 "cells": [
  {
   "cell_type": "code",
   "execution_count": 2,
   "metadata": {
    "collapsed": false,
    "pycharm": {
     "is_executing": true
    }
   },
   "outputs": [],
   "source": [
    "import numpy as np\n",
    "import pprint\n",
    "\n",
    "pp = pprint.PrettyPrinter(indent=2)\n",
    "pprint = pp.pprint"
   ]
  },
  {
   "cell_type": "code",
   "execution_count": 3,
   "metadata": {},
   "outputs": [],
   "source": [
    "def create_state(n):\n",
    "    state = np.zeros((2**n, 1))\n",
    "    state[0,:] = 1\n",
    "    return state\n",
    "\n",
    "# Define common quantum logic gates (single qubit operators)\n",
    "I = np.eye(2)\n",
    "X = np.array([[0, 1], [1, 0]])\n",
    "Y = np.array([[0, -1j], [1j, 0]])\n",
    "Z = np.array([[1, 0], [0, -1]])\n",
    "H = 1/np.sqrt(2) * np.array([[1, 1],[1, -1]])\n",
    "\n",
    "def create_controlled_gate(n, control, target, U):\n",
    "    pass\n",
    "\n",
    "# Controlled NOT (CNOT) Gate\n",
    "CNOT = np.zeros((4,4))\n",
    "CNOT[0:2,0:2] = I\n",
    "CNOT[2:4,2:4] = X"
   ]
  },
  {
   "cell_type": "markdown",
   "metadata": {},
   "source": [
    "### 2-qubit quantum circuit examples"
   ]
  },
  {
   "cell_type": "code",
   "execution_count": 5,
   "metadata": {},
   "outputs": [
    {
     "name": "stdout",
     "output_type": "stream",
     "text": [
      "[[0.70710678]\n",
      " [0.        ]\n",
      " [0.        ]\n",
      " [0.70710678]]\n"
     ]
    }
   ],
   "source": [
    "# Create Bell State\n",
    "xi = create_state(2)  # Create 2-qubit state |00>\n",
    "\n",
    "# First, create the H (tensor) I gate\n",
    "G0 = np.kron(H, I)\n",
    "\n",
    "# Then, create the CNOT_01 gate\n",
    "G1 = CNOT\n",
    "\n",
    "# Multiply by CNOT gate\n",
    "xf = G1 @ G0 @ xi\n",
    "print(xf)  # Gives correct expected output 1/sqrt(2) (|00> + |11>)"
   ]
  },
  {
   "cell_type": "markdown",
   "metadata": {},
   "source": [
    "### 3-qubit quantum circuit examples"
   ]
  },
  {
   "cell_type": "code",
   "execution_count": 12,
   "metadata": {},
   "outputs": [
    {
     "name": "stdout",
     "output_type": "stream",
     "text": [
      "[[0.70710678]\n",
      " [0.        ]\n",
      " [0.        ]\n",
      " [0.        ]\n",
      " [0.        ]\n",
      " [0.        ]\n",
      " [0.70710678]\n",
      " [0.        ]]\n"
     ]
    }
   ],
   "source": [
    "# The exact circuit as above with a third qubit added on\n",
    "\n",
    "G0 = np.kron(np.kron(H, I), I)\n",
    "G1 = np.kron(CNOT, I)\n",
    "xi = create_state(3)\n",
    "\n",
    "# Construct the circuit\n",
    "U = G1 @ G0\n",
    "xf = U @ xi\n",
    "print(xf)"
   ]
  },
  {
   "cell_type": "code",
   "execution_count": 16,
   "metadata": {},
   "outputs": [
    {
     "name": "stdout",
     "output_type": "stream",
     "text": [
      "array([[ 0.70710678,  0.        ,  0.        ,  0.        ,  0.70710678,\n",
      "         0.        ,  0.        ,  0.        ],\n",
      "       [ 0.        ,  0.70710678,  0.        ,  0.        ,  0.        ,\n",
      "         0.70710678,  0.        ,  0.        ],\n",
      "       [ 0.        ,  0.        ,  0.70710678,  0.        ,  0.        ,\n",
      "         0.        ,  0.70710678,  0.        ],\n",
      "       [ 0.        ,  0.        ,  0.        ,  0.70710678,  0.        ,\n",
      "         0.        ,  0.        ,  0.70710678],\n",
      "       [ 0.        ,  0.        ,  0.70710678,  0.        ,  0.        ,\n",
      "         0.        , -0.70710678,  0.        ],\n",
      "       [ 0.        ,  0.        ,  0.        ,  0.70710678,  0.        ,\n",
      "         0.        ,  0.        , -0.70710678],\n",
      "       [ 0.70710678,  0.        ,  0.        ,  0.        , -0.70710678,\n",
      "         0.        ,  0.        ,  0.        ],\n",
      "       [ 0.        ,  0.70710678,  0.        ,  0.        ,  0.        ,\n",
      "        -0.70710678,  0.        ,  0.        ]])\n"
     ]
    }
   ],
   "source": [
    "gates = np.array([G0, G1])\n",
    "\n",
    "def create_circuit(gates):\n",
    "    \"\"\"Construct the quantum circuit from an array of unitary gates.\"\"\"\n",
    "    U = gates[0]\n",
    "\n",
    "    for i in range(1, gates.shape[0]):\n",
    "        U = gates[i] @ U\n",
    "    return U\n",
    "\n",
    "U = create_circuit(gates)\n",
    "pprint(U)"
   ]
  },
  {
   "cell_type": "code",
   "execution_count": null,
   "metadata": {},
   "outputs": [],
   "source": [
    "xi = create_state(2)  # Create 2-qubit state |00>\n",
    "\n",
    "# First, create the H (tensor) I gate\n",
    "G0 = np.kron(H, I)\n",
    "\n",
    "# Multiply by CNOT gate\n",
    "xf = CNOT @ G0 @ x\n",
    "print(xf)  # Gives correct expected output 1/sqrt(2) (|00> + |11>)"
   ]
  },
  {
   "cell_type": "code",
   "execution_count": 85,
   "metadata": {},
   "outputs": [
    {
     "data": {
      "text/plain": [
       "array([[1.00000000e+00],\n",
       "       [2.23711432e-17]])"
      ]
     },
     "execution_count": 85,
     "metadata": {},
     "output_type": "execute_result"
    }
   ],
   "source": [
    "# Matrix multiplication methods\n",
    "x = 1/np.sqrt(2) * np.array([[1,1]]).reshape(2,1)  # |+> state\n",
    "H @ x\n",
    "np.tensordot(H, x, axes=1)"
   ]
  },
  {
   "cell_type": "code",
   "execution_count": null,
   "metadata": {},
   "outputs": [],
   "source": []
  },
  {
   "cell_type": "code",
   "execution_count": 87,
   "metadata": {},
   "outputs": [
    {
     "name": "stdout",
     "output_type": "stream",
     "text": [
      "[[1 0]\n",
      " [0 0]]\n",
      "[[0 0]\n",
      " [0 1]]\n",
      "[[1 0]]\n",
      "[[1 0]\n",
      " [0 0]]\n",
      "[[0 0]\n",
      " [0 1]]\n"
     ]
    }
   ],
   "source": [
    "# Try to create CNOT via tensor products\n",
    "state0 = np.array([[1, 0]]).T  # Ket\n",
    "state1 = np.array([[0, 1]])    # Bra\n",
    "\n",
    "print(np.tensordot(state0.conj().T, state0, axes=0).reshape(2,2))  # Must be reshaped :/\n",
    "print(np.outer(state1, state1))  # This is more readable.\n",
    "print(state0.conj().T)\n",
    "print(np.kron(state0.conj().T, state0))  # Actually works as expected!\n",
    "print(np.kron(state1.conj().T, state1))"
   ]
  },
  {
   "cell_type": "markdown",
   "metadata": {},
   "source": []
  },
  {
   "cell_type": "code",
   "execution_count": null,
   "metadata": {},
   "outputs": [],
   "source": []
  }
 ],
 "metadata": {
  "interpreter": {
   "hash": "1a7ec74454a010df0243dfa1a610d14ffb731d2fa692ee80e16ea3c1a45ed7fc"
  },
  "kernelspec": {
   "display_name": "Python 3.10.4 ('venv': venv)",
   "language": "python",
   "name": "python3"
  },
  "language_info": {
   "codemirror_mode": {
    "name": "ipython",
    "version": 3
   },
   "file_extension": ".py",
   "mimetype": "text/x-python",
   "name": "python",
   "nbconvert_exporter": "python",
   "pygments_lexer": "ipython3",
   "version": "3.10.4"
  }
 },
 "nbformat": 4,
 "nbformat_minor": 0
}
