{
 "cells": [
  {
   "cell_type": "code",
   "execution_count": 2,
   "metadata": {
    "collapsed": false,
    "pycharm": {
     "is_executing": true
    }
   },
   "outputs": [],
   "source": [
    "import numpy as np\n",
    "import pprint\n",
    "\n",
    "pp = pprint.PrettyPrinter(indent=2)\n",
    "pprint = pp.pprint"
   ]
  },
  {
   "cell_type": "code",
   "execution_count": 31,
   "metadata": {},
   "outputs": [
    {
     "data": {
      "text/plain": [
       "'0110'"
      ]
     },
     "execution_count": 31,
     "metadata": {},
     "output_type": "execute_result"
    }
   ],
   "source": [
    "i_base2 = bin(6).split('b')[1]\n",
    "string = (4 - len(i_base2)) * '0' + i_base2\n",
    "string"
   ]
  },
  {
   "cell_type": "code",
   "execution_count": 104,
   "metadata": {},
   "outputs": [],
   "source": [
    "def basis_vector_string(n: int, i: int):\n",
    "    \"\"\"Returns a string corresponding to the ith basis vector in the n-qubit computational basis.\"\"\"\n",
    "    assert 0 <= i < 2**n, \"i,n must satisfy 0 <= i < 2**n\"\n",
    "    assert type(n) == int, \"n is not of type int\"\n",
    "    assert type(i) == int, \"i is not of type int\"\n",
    "    i_base2: str = bin(i).split('b')[1]\n",
    "    fill_zeros: str = (n - len(i_base2)) * '0'\n",
    "    string = '|' + fill_zeros + i_base2 + '>'\n",
    "    \n",
    "    return string\n",
    "\n",
    "\n",
    "def ket_string(arr: np.ndarray):\n",
    "    nrows = len(arr)  # TODO: be careful of what happens when a bra is passed.\n",
    "    n = int(np.log2(nrows))\n",
    "    string = \"\"\n",
    "    for i in range(nrows):\n",
    "        ci = arr[i,0]  # The probability amplitude for the ith basis state.\n",
    "        if ci == 0:\n",
    "            continue\n",
    "        else:\n",
    "            string += f\"({ci})\"\n",
    "        string += basis_vector_string(n, i)\n",
    "        string += \" \"\n",
    "    return string\n"
   ]
  },
  {
   "cell_type": "code",
   "execution_count": 103,
   "metadata": {},
   "outputs": [
    {
     "name": "stdout",
     "output_type": "stream",
     "text": [
      "(1.0)|0> \n",
      "(0.7071067811865475)|0> (0.7071067811865475)|1> \n",
      "(0.7071067811865475)|0> (0.7071067811865475)|1> \n"
     ]
    }
   ],
   "source": [
    "basis_vector_string(10, 9)\n",
    "\n",
    "x = create_state(1)\n",
    "plus = H @ x  # |+>\n",
    "minus = H @ Z @ x \n",
    "print(ket_string(x))\n",
    "print(ket_string(plus))\n",
    "print(ket_string(minus))"
   ]
  },
  {
   "cell_type": "code",
   "execution_count": 86,
   "metadata": {},
   "outputs": [
    {
     "name": "stdout",
     "output_type": "stream",
     "text": [
      "0.7071067811865475|00>-0.7071067811865475|10>\n"
     ]
    },
    {
     "data": {
      "text/plain": [
       "(array([0, 2]), array([0, 0]))"
      ]
     },
     "execution_count": 86,
     "metadata": {},
     "output_type": "execute_result"
    }
   ],
   "source": [
    "# Attempt a more elegant print option\n",
    "x = 1/np.sqrt(2) * np.array([[1, 0, -1, 0]]).T\n",
    "print(ket_string(x))\n",
    "nonzero_indices = np.nonzero(x)\n",
    "nonzero_probability_amplitudes = x[nonzero_indices]\n",
    "nonzero_indices\n",
    "np.where(x != 0, str(x), None)"
   ]
  },
  {
   "cell_type": "code",
   "execution_count": 92,
   "metadata": {},
   "outputs": [
    {
     "data": {
      "text/plain": [
       "array([[ 0.70710678],\n",
       "       [-0.70710678]])"
      ]
     },
     "execution_count": 92,
     "metadata": {},
     "output_type": "execute_result"
    }
   ],
   "source": [
    "idxs = np.argwhere(x != 0)\n",
    "nonzero = x[idxs[:,0]]"
   ]
  },
  {
   "cell_type": "code",
   "execution_count": 46,
   "metadata": {},
   "outputs": [],
   "source": [
    "def create_state(n):\n",
    "    state = np.zeros((2**n, 1))\n",
    "    state[0,:] = 1\n",
    "    return state\n",
    "\n",
    "def Itensor(n):\n",
    "    \"\"\"Returns the matrix (ndarray) corresponding to I^{\\otimes n}\"\"\"\n",
    "    return np.eye(2**n)\n",
    "\n",
    "# Define common quantum logic gates (single qubit operators)\n",
    "I = np.eye(2)\n",
    "X = np.array([[0, 1], [1, 0]])\n",
    "Y = np.array([[0, -1j], [1j, 0]])\n",
    "Z = np.array([[1, 0], [0, -1]])\n",
    "H = 1/np.sqrt(2) * np.array([[1, 1],[1, -1]])\n",
    "\n",
    "def create_controlled_gate(n, control, target, U):\n",
    "    pass\n",
    "\n",
    "# Controlled NOT (CNOT) Gate\n",
    "CNOT = np.zeros((4,4))\n",
    "CNOT[0:2,0:2] = I\n",
    "CNOT[2:4,2:4] = X"
   ]
  },
  {
   "cell_type": "markdown",
   "metadata": {},
   "source": [
    "### 2-qubit quantum circuit examples"
   ]
  },
  {
   "cell_type": "code",
   "execution_count": 5,
   "metadata": {},
   "outputs": [
    {
     "name": "stdout",
     "output_type": "stream",
     "text": [
      "[[0.70710678]\n",
      " [0.        ]\n",
      " [0.        ]\n",
      " [0.70710678]]\n"
     ]
    }
   ],
   "source": [
    "# Create Bell State\n",
    "xi = create_state(2)  # Create 2-qubit state |00>\n",
    "\n",
    "# First, create the H (tensor) I gate\n",
    "G0 = np.kron(H, I)\n",
    "\n",
    "# Then, create the CNOT_01 gate\n",
    "G1 = CNOT\n",
    "\n",
    "# Multiply by CNOT gate\n",
    "xf = G1 @ G0 @ xi\n",
    "print(xf)  # Gives correct expected output 1/sqrt(2) (|00> + |11>)"
   ]
  },
  {
   "cell_type": "markdown",
   "metadata": {},
   "source": [
    "### 3-qubit quantum circuit examples"
   ]
  },
  {
   "cell_type": "code",
   "execution_count": 12,
   "metadata": {},
   "outputs": [
    {
     "name": "stdout",
     "output_type": "stream",
     "text": [
      "[[0.70710678]\n",
      " [0.        ]\n",
      " [0.        ]\n",
      " [0.        ]\n",
      " [0.        ]\n",
      " [0.        ]\n",
      " [0.70710678]\n",
      " [0.        ]]\n"
     ]
    }
   ],
   "source": [
    "# The exact circuit as above with a third qubit added on\n",
    "\n",
    "G0 = np.kron(np.kron(H, I), I)\n",
    "G1 = np.kron(CNOT, I)\n",
    "xi = create_state(3)\n",
    "\n",
    "# Construct the circuit\n",
    "U = G1 @ G0\n",
    "xf = U @ xi\n",
    "print(xf)"
   ]
  },
  {
   "cell_type": "code",
   "execution_count": 18,
   "metadata": {},
   "outputs": [
    {
     "name": "stdout",
     "output_type": "stream",
     "text": [
      "[[ True  True  True  True  True  True  True  True]\n",
      " [ True  True  True  True  True  True  True  True]\n",
      " [ True  True  True  True  True  True  True  True]\n",
      " [ True  True  True  True  True  True  True  True]\n",
      " [ True  True  True  True  True  True  True  True]\n",
      " [ True  True  True  True  True  True  True  True]\n",
      " [ True  True  True  True  True  True  True  True]\n",
      " [ True  True  True  True  True  True  True  True]]\n"
     ]
    }
   ],
   "source": [
    "# Construct the same quantum circuit as above with a function.\n",
    "gates = np.array([G0, G1])\n",
    "\n",
    "def create_circuit(gates):\n",
    "    \"\"\"Construct the quantum circuit from an array of unitary gates.\"\"\"\n",
    "    U = gates[0]\n",
    "\n",
    "    for i in range(1, gates.shape[0]):\n",
    "        U = gates[i] @ U\n",
    "    return U\n",
    "\n",
    "U1 = create_circuit(gates)\n",
    "print(U1 == U)"
   ]
  },
  {
   "cell_type": "code",
   "execution_count": 26,
   "metadata": {},
   "outputs": [
    {
     "name": "stdout",
     "output_type": "stream",
     "text": [
      "array([[1., 0., 0., 0., 0., 0., 0., 0.],\n",
      "       [0., 1., 0., 0., 0., 0., 0., 0.],\n",
      "       [0., 0., 1., 0., 0., 0., 0., 0.],\n",
      "       [0., 0., 0., 1., 0., 0., 0., 0.],\n",
      "       [0., 0., 0., 0., 0., 1., 0., 0.],\n",
      "       [0., 0., 0., 0., 1., 0., 0., 0.],\n",
      "       [0., 0., 0., 0., 0., 0., 0., 1.],\n",
      "       [0., 0., 0., 0., 0., 0., 1., 0.]])\n",
      "array([[0.70710678],\n",
      "       [0.        ],\n",
      "       [0.        ],\n",
      "       [0.        ],\n",
      "       [0.        ],\n",
      "       [0.70710678],\n",
      "       [0.        ],\n",
      "       [0.        ]])\n"
     ]
    }
   ],
   "source": [
    "# Create the quantum circuit H_0 -> CNOT_02 for a 3-qubit system\n",
    "G0 = np.kron(H, np.eye(2**2))\n",
    "\n",
    "state0 = np.array([[1, 0]]).T  # Ket |0>\n",
    "state1 = np.array([[0, 1]]).T  # Ket |1>\n",
    "M0 = np.outer(state0.conj().T, state0)  # |0><0|\n",
    "M1 = np.outer(state1.conj().T, state1)  # |1><1|\n",
    "G1 = np.kron(M0, Itensor(2)) + np.kron(np.kron(M1, I), X)  # CNOT_02\n",
    "pprint(G1)\n",
    "\n",
    "xi = create_state(3)  # |000>\n",
    "U = create_circuit(np.array([G0, G1]))  # Create quantum circuit\n",
    "xf = U @ xi  # Evolve the initial state\n",
    "\n",
    "pprint(xf)  # Result is as expected: 1/sqrt(2) (|000> + |101>)\n"
   ]
  },
  {
   "cell_type": "markdown",
   "metadata": {},
   "source": [
    "### Measurement / Partial Measurements on Quantum Circuits"
   ]
  },
  {
   "cell_type": "code",
   "execution_count": null,
   "metadata": {},
   "outputs": [],
   "source": []
  },
  {
   "cell_type": "code",
   "execution_count": 85,
   "metadata": {},
   "outputs": [
    {
     "data": {
      "text/plain": [
       "array([[1.00000000e+00],\n",
       "       [2.23711432e-17]])"
      ]
     },
     "execution_count": 85,
     "metadata": {},
     "output_type": "execute_result"
    }
   ],
   "source": [
    "# Matrix multiplication methods\n",
    "x = 1/np.sqrt(2) * np.array([[1,1]]).reshape(2,1)  # |+> state\n",
    "H @ x\n",
    "np.tensordot(H, x, axes=1)"
   ]
  },
  {
   "cell_type": "code",
   "execution_count": null,
   "metadata": {},
   "outputs": [],
   "source": []
  },
  {
   "cell_type": "code",
   "execution_count": 87,
   "metadata": {},
   "outputs": [
    {
     "name": "stdout",
     "output_type": "stream",
     "text": [
      "[[1 0]\n",
      " [0 0]]\n",
      "[[0 0]\n",
      " [0 1]]\n",
      "[[1 0]]\n",
      "[[1 0]\n",
      " [0 0]]\n",
      "[[0 0]\n",
      " [0 1]]\n"
     ]
    }
   ],
   "source": [
    "# Try to create CNOT via tensor products\n",
    "state0 = np.array([[1, 0]]).T  # Ket |0>\n",
    "state1 = np.array([[0, 1]]).T  # Ket |1>\n",
    "\n",
    "print(np.tensordot(state0.conj().T, state0, axes=0).reshape(2,2))  # Must be reshaped :/\n",
    "print(np.outer(state1, state1))  # This is more readable.\n",
    "print(state0.conj().T)\n",
    "print(np.kron(state0.conj().T, state0))  # Actually works as expected!\n",
    "print(np.kron(state1.conj().T, state1))"
   ]
  },
  {
   "cell_type": "markdown",
   "metadata": {},
   "source": []
  },
  {
   "cell_type": "code",
   "execution_count": null,
   "metadata": {},
   "outputs": [],
   "source": []
  }
 ],
 "metadata": {
  "interpreter": {
   "hash": "1a7ec74454a010df0243dfa1a610d14ffb731d2fa692ee80e16ea3c1a45ed7fc"
  },
  "kernelspec": {
   "display_name": "Python 3.10.4 ('venv': venv)",
   "language": "python",
   "name": "python3"
  },
  "language_info": {
   "codemirror_mode": {
    "name": "ipython",
    "version": 3
   },
   "file_extension": ".py",
   "mimetype": "text/x-python",
   "name": "python",
   "nbconvert_exporter": "python",
   "pygments_lexer": "ipython3",
   "version": "3.10.4"
  }
 },
 "nbformat": 4,
 "nbformat_minor": 0
}
