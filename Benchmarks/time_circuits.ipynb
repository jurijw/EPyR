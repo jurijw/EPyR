{
 "cells": [
  {
   "cell_type": "code",
   "execution_count": 1,
   "metadata": {
    "ExecuteTime": {
     "end_time": "2023-04-30T19:30:54.927242433Z",
     "start_time": "2023-04-30T19:30:54.880064194Z"
    }
   },
   "outputs": [],
   "source": [
    "from epyr.state import State\n",
    "from epyr.circuit import Circuit\n",
    "\n",
    "from qiskit import QuantumCircuit, Aer\n",
    "backend = Aer.get_backend(\"statevector_simulator\")\n",
    "\n",
    "import timeit\n",
    "# import pandas as pd\n",
    "import matplotlib.pyplot as plt"
   ]
  },
  {
   "cell_type": "code",
   "execution_count": 2,
   "metadata": {
    "ExecuteTime": {
     "end_time": "2023-04-30T03:28:21.599958496Z",
     "start_time": "2023-04-30T03:28:21.594268244Z"
    }
   },
   "outputs": [],
   "source": [
    "def n_qubit_entanglement_circuit(N):\n",
    "    c = Circuit(N)\n",
    "    c.h(0)\n",
    "    for i in range(1, N):\n",
    "        c.cnot(0, i)\n",
    "    return c"
   ]
  },
  {
   "cell_type": "code",
   "execution_count": 3,
   "metadata": {
    "ExecuteTime": {
     "end_time": "2023-04-30T03:28:22.163003668Z",
     "start_time": "2023-04-30T03:28:22.157937015Z"
    }
   },
   "outputs": [],
   "source": [
    "def n_qubit_entanglement_circuit_qiskit(N):\n",
    "    c = QuantumCircuit(N)\n",
    "    c.h(0)\n",
    "    for i in range(1, N):\n",
    "        c.cnot(0, i)\n",
    "    return c"
   ]
  },
  {
   "cell_type": "code",
   "execution_count": 4,
   "metadata": {
    "ExecuteTime": {
     "end_time": "2023-04-30T03:28:39.567762216Z",
     "start_time": "2023-04-30T03:28:23.196591657Z"
    }
   },
   "outputs": [
    {
     "name": "stderr",
     "output_type": "stream",
     "text": [
      "/home/jurijw/Documents/berkeley/spring23/physics191/final-project/EPyR/src/epyr/circuit.py:151: NumbaWarning: \n",
      "Compilation is falling back to object mode WITH looplifting enabled because Function \"apply_general_one_qubit_gate_in_place\" failed type inference due to: No implementation of function Function(<built-in function matmul>) found for signature:\n",
      " \n",
      " >>> matmul(array(float64, 2d, C), array(complex64, 1d, C))\n",
      " \n",
      "There are 2 candidate implementations:\n",
      "  - Of which 2 did not match due to:\n",
      "  Overload in function 'MatMul.generic': File: numba/core/typing/npydecl.py: Line 970.\n",
      "    With argument(s): '(array(float64, 2d, C), array(complex64, 1d, C))':\n",
      "   Rejected as the implementation raised a specific error:\n",
      "     TypingError: '@' arguments must all have the same dtype\n",
      "  raised from /home/jurijw/.config/pyenv/.pyenv/versions/3.10.11/envs/epyr-venv-3.10.11/lib/python3.10/site-packages/numba/core/typing/npydecl.py:915\n",
      "\n",
      "During: typing of intrinsic-call at /home/jurijw/Documents/berkeley/spring23/physics191/final-project/EPyR/src/epyr/circuit.py (179)\n",
      "\n",
      "File \"../src/epyr/circuit.py\", line 179:\n",
      "def apply_general_one_qubit_gate_in_place(state, U, q0, N):\n",
      "    <source elided>\n",
      "            # Update all alpha_js by applying the U gate\n",
      "            state[j] = U @ state[j]\n",
      "            ^\n",
      "\n",
      "  @conditional_decorator(jit, ENABLE_NUMBA)\n",
      "/home/jurijw/Documents/berkeley/spring23/physics191/final-project/EPyR/src/epyr/circuit.py:151: NumbaWarning: \n",
      "Compilation is falling back to object mode WITHOUT looplifting enabled because Function \"apply_general_one_qubit_gate_in_place\" failed type inference due to: Cannot determine Numba type of <class 'numba.core.dispatcher.LiftedLoop'>\n",
      "\n",
      "File \"../src/epyr/circuit.py\", line 170:\n",
      "def apply_general_one_qubit_gate_in_place(state, U, q0, N):\n",
      "    <source elided>\n",
      "    \"\"\"\n",
      "    for i0 in range(1 << q0):\n",
      "    ^\n",
      "\n",
      "  @conditional_decorator(jit, ENABLE_NUMBA)\n",
      "/home/jurijw/.config/pyenv/.pyenv/versions/3.10.11/envs/epyr-venv-3.10.11/lib/python3.10/site-packages/numba/core/object_mode_passes.py:151: NumbaWarning: Function \"apply_general_one_qubit_gate_in_place\" was compiled in object mode without forceobj=True, but has lifted loops.\n",
      "\n",
      "File \"../src/epyr/circuit.py\", line 170:\n",
      "def apply_general_one_qubit_gate_in_place(state, U, q0, N):\n",
      "    <source elided>\n",
      "    \"\"\"\n",
      "    for i0 in range(1 << q0):\n",
      "    ^\n",
      "\n",
      "  warnings.warn(errors.NumbaWarning(warn_msg,\n",
      "/home/jurijw/.config/pyenv/.pyenv/versions/3.10.11/envs/epyr-venv-3.10.11/lib/python3.10/site-packages/numba/core/object_mode_passes.py:161: NumbaDeprecationWarning: \n",
      "Fall-back from the nopython compilation path to the object mode compilation path has been detected, this is deprecated behaviour.\n",
      "\n",
      "For more information visit https://numba.readthedocs.io/en/stable/reference/deprecation.html#deprecation-of-object-mode-fall-back-behaviour-when-using-jit\n",
      "\n",
      "File \"../src/epyr/circuit.py\", line 170:\n",
      "def apply_general_one_qubit_gate_in_place(state, U, q0, N):\n",
      "    <source elided>\n",
      "    \"\"\"\n",
      "    for i0 in range(1 << q0):\n",
      "    ^\n",
      "\n",
      "  warnings.warn(errors.NumbaDeprecationWarning(msg,\n",
      "/home/jurijw/Documents/berkeley/spring23/physics191/final-project/EPyR/src/epyr/circuit.py:151: NumbaWarning: \n",
      "Compilation is falling back to object mode WITHOUT looplifting enabled because Function \"apply_general_one_qubit_gate_in_place\" failed type inference due to: No implementation of function Function(<built-in function matmul>) found for signature:\n",
      " \n",
      " >>> matmul(array(float64, 2d, C), array(complex64, 1d, C))\n",
      " \n",
      "There are 2 candidate implementations:\n",
      "    - Of which 2 did not match due to:\n",
      "    Overload in function 'MatMul.generic': File: numba/core/typing/npydecl.py: Line 970.\n",
      "      With argument(s): '(array(float64, 2d, C), array(complex64, 1d, C))':\n",
      "     Rejected as the implementation raised a specific error:\n",
      "       TypingError: '@' arguments must all have the same dtype\n",
      "  raised from /home/jurijw/.config/pyenv/.pyenv/versions/3.10.11/envs/epyr-venv-3.10.11/lib/python3.10/site-packages/numba/core/typing/npydecl.py:915\n",
      "\n",
      "During: typing of intrinsic-call at /home/jurijw/Documents/berkeley/spring23/physics191/final-project/EPyR/src/epyr/circuit.py (179)\n",
      "\n",
      "File \"../src/epyr/circuit.py\", line 179:\n",
      "def apply_general_one_qubit_gate_in_place(state, U, q0, N):\n",
      "    <source elided>\n",
      "            # Update all alpha_js by applying the U gate\n",
      "            state[j] = U @ state[j]\n",
      "            ^\n",
      "\n",
      "  @conditional_decorator(jit, ENABLE_NUMBA)\n",
      "/home/jurijw/.config/pyenv/.pyenv/versions/3.10.11/envs/epyr-venv-3.10.11/lib/python3.10/site-packages/numba/core/object_mode_passes.py:151: NumbaWarning: Function \"apply_general_one_qubit_gate_in_place\" was compiled in object mode without forceobj=True.\n",
      "\n",
      "File \"../src/epyr/circuit.py\", line 170:\n",
      "def apply_general_one_qubit_gate_in_place(state, U, q0, N):\n",
      "    <source elided>\n",
      "    \"\"\"\n",
      "    for i0 in range(1 << q0):\n",
      "    ^\n",
      "\n",
      "  warnings.warn(errors.NumbaWarning(warn_msg,\n",
      "/home/jurijw/.config/pyenv/.pyenv/versions/3.10.11/envs/epyr-venv-3.10.11/lib/python3.10/site-packages/numba/core/object_mode_passes.py:161: NumbaDeprecationWarning: \n",
      "Fall-back from the nopython compilation path to the object mode compilation path has been detected, this is deprecated behaviour.\n",
      "\n",
      "For more information visit https://numba.readthedocs.io/en/stable/reference/deprecation.html#deprecation-of-object-mode-fall-back-behaviour-when-using-jit\n",
      "\n",
      "File \"../src/epyr/circuit.py\", line 170:\n",
      "def apply_general_one_qubit_gate_in_place(state, U, q0, N):\n",
      "    <source elided>\n",
      "    \"\"\"\n",
      "    for i0 in range(1 << q0):\n",
      "    ^\n",
      "\n",
      "  warnings.warn(errors.NumbaDeprecationWarning(msg,\n",
      "/home/jurijw/Documents/berkeley/spring23/physics191/final-project/EPyR/src/epyr/circuit.py:182: NumbaWarning: \n",
      "Compilation is falling back to object mode WITH looplifting enabled because Function \"apply_general_two_qubit_gate_in_place\" failed type inference due to: Untyped global name 'swap_two_qubit_gate': Cannot determine Numba type of <class 'function'>\n",
      "\n",
      "File \"../src/epyr/circuit.py\", line 191:\n",
      "def apply_general_two_qubit_gate_in_place(state, U, q0, q1, N):\n",
      "    <source elided>\n",
      "    if q0 > q1:\n",
      "        U = swap_two_qubit_gate(U)\n",
      "        ^\n",
      "\n",
      "  @conditional_decorator(jit, ENABLE_NUMBA)\n",
      "/home/jurijw/Documents/berkeley/spring23/physics191/final-project/EPyR/src/epyr/circuit.py:182: NumbaWarning: \n",
      "Compilation is falling back to object mode WITHOUT looplifting enabled because Function \"apply_general_two_qubit_gate_in_place\" failed type inference due to: Untyped global name 'swap_two_qubit_gate': Cannot determine Numba type of <class 'function'>\n",
      "\n",
      "File \"../src/epyr/circuit.py\", line 191:\n",
      "def apply_general_two_qubit_gate_in_place(state, U, q0, q1, N):\n",
      "    <source elided>\n",
      "    if q0 > q1:\n",
      "        U = swap_two_qubit_gate(U)\n",
      "        ^\n",
      "\n",
      "  @conditional_decorator(jit, ENABLE_NUMBA)\n",
      "/home/jurijw/.config/pyenv/.pyenv/versions/3.10.11/envs/epyr-venv-3.10.11/lib/python3.10/site-packages/numba/core/object_mode_passes.py:151: NumbaWarning: Function \"apply_general_two_qubit_gate_in_place\" was compiled in object mode without forceobj=True, but has lifted loops.\n",
      "\n",
      "File \"../src/epyr/circuit.py\", line 190:\n",
      "def apply_general_two_qubit_gate_in_place(state, U, q0, q1, N):\n",
      "    <source elided>\n",
      "    # Swap affected qubits if necessary\n",
      "    if q0 > q1:\n",
      "    ^\n",
      "\n",
      "  warnings.warn(errors.NumbaWarning(warn_msg,\n",
      "/home/jurijw/.config/pyenv/.pyenv/versions/3.10.11/envs/epyr-venv-3.10.11/lib/python3.10/site-packages/numba/core/object_mode_passes.py:161: NumbaDeprecationWarning: \n",
      "Fall-back from the nopython compilation path to the object mode compilation path has been detected, this is deprecated behaviour.\n",
      "\n",
      "For more information visit https://numba.readthedocs.io/en/stable/reference/deprecation.html#deprecation-of-object-mode-fall-back-behaviour-when-using-jit\n",
      "\n",
      "File \"../src/epyr/circuit.py\", line 190:\n",
      "def apply_general_two_qubit_gate_in_place(state, U, q0, q1, N):\n",
      "    <source elided>\n",
      "    # Swap affected qubits if necessary\n",
      "    if q0 > q1:\n",
      "    ^\n",
      "\n",
      "  warnings.warn(errors.NumbaDeprecationWarning(msg,\n",
      "/home/jurijw/Documents/berkeley/spring23/physics191/final-project/EPyR/src/epyr/circuit.py:182: NumbaWarning: \n",
      "Compilation is falling back to object mode WITHOUT looplifting enabled because Function \"apply_general_two_qubit_gate_in_place\" failed type inference due to: No implementation of function Function(<built-in function matmul>) found for signature:\n",
      " \n",
      " >>> matmul(array(int64, 2d, C), array(complex64, 1d, C))\n",
      " \n",
      "There are 2 candidate implementations:\n",
      "      - Of which 2 did not match due to:\n",
      "      Overload in function 'MatMul.generic': File: numba/core/typing/npydecl.py: Line 970.\n",
      "        With argument(s): '(array(int64, 2d, C), array(complex64, 1d, C))':\n",
      "       Rejected as the implementation raised a specific error:\n",
      "         TypingError: '@' arguments must all have the same dtype\n",
      "  raised from /home/jurijw/.config/pyenv/.pyenv/versions/3.10.11/envs/epyr-venv-3.10.11/lib/python3.10/site-packages/numba/core/typing/npydecl.py:915\n",
      "\n",
      "During: typing of intrinsic-call at /home/jurijw/Documents/berkeley/spring23/physics191/final-project/EPyR/src/epyr/circuit.py (210)\n",
      "\n",
      "File \"../src/epyr/circuit.py\", line 210:\n",
      "def apply_general_two_qubit_gate_in_place(state, U, q0, q1, N):\n",
      "    <source elided>\n",
      "                # Update all alpha_js by applying the U gate\n",
      "                state[j] = U @ state[j]\n",
      "                ^\n",
      "\n",
      "  @conditional_decorator(jit, ENABLE_NUMBA)\n"
     ]
    },
    {
     "name": "stderr",
     "output_type": "stream",
     "text": [
      "/home/jurijw/.config/pyenv/.pyenv/versions/3.10.11/envs/epyr-venv-3.10.11/lib/python3.10/site-packages/numba/core/object_mode_passes.py:151: NumbaWarning: Function \"apply_general_two_qubit_gate_in_place\" was compiled in object mode without forceobj=True.\n",
      "\n",
      "File \"../src/epyr/circuit.py\", line 194:\n",
      "def apply_general_two_qubit_gate_in_place(state, U, q0, q1, N):\n",
      "    <source elided>\n",
      "\n",
      "    for i0 in range(1 << q0):\n",
      "    ^\n",
      "\n",
      "  warnings.warn(errors.NumbaWarning(warn_msg,\n",
      "/home/jurijw/.config/pyenv/.pyenv/versions/3.10.11/envs/epyr-venv-3.10.11/lib/python3.10/site-packages/numba/core/object_mode_passes.py:161: NumbaDeprecationWarning: \n",
      "Fall-back from the nopython compilation path to the object mode compilation path has been detected, this is deprecated behaviour.\n",
      "\n",
      "For more information visit https://numba.readthedocs.io/en/stable/reference/deprecation.html#deprecation-of-object-mode-fall-back-behaviour-when-using-jit\n",
      "\n",
      "File \"../src/epyr/circuit.py\", line 194:\n",
      "def apply_general_two_qubit_gate_in_place(state, U, q0, q1, N):\n",
      "    <source elided>\n",
      "\n",
      "    for i0 in range(1 << q0):\n",
      "    ^\n",
      "\n",
      "  warnings.warn(errors.NumbaDeprecationWarning(msg,\n"
     ]
    }
   ],
   "source": [
    "def time_compute(c, N):\n",
    "    s = State(N)\n",
    "    c.compute(s)\n",
    "\n",
    "def time_compute_qiskit(cq):\n",
    "    job = backend.run(cq)\n",
    "\n",
    "N_MAX = 20\n",
    "times, times_qiskit = [], []\n",
    "for N in range(1, N_MAX):\n",
    "    # Setup the circuit\n",
    "    c = n_qubit_entanglement_circuit(N)\n",
    "    cq = n_qubit_entanglement_circuit_qiskit(N)\n",
    "    times.append(timeit.timeit(lambda: time_compute(c, N), number=1))\n",
    "    times_qiskit.append(timeit.timeit(lambda: time_compute_qiskit(cq), number=1))"
   ]
  },
  {
   "cell_type": "code",
   "execution_count": null,
   "metadata": {
    "ExecuteTime": {
     "end_time": "2023-04-30T03:28:39.692883102Z",
     "start_time": "2023-04-30T03:28:39.568599292Z"
    }
   },
   "outputs": [],
   "source": [
    "plt.plot(range(1, N_MAX), times, label=\"In-place mutation\")\n",
    "plt.plot(range(1, N_MAX), times_qiskit, label=\"Qiskit\")\n",
    "plt.title(\"Time Complexity: Entangled State Creation\")\n",
    "plt.xlabel(\"N\")\n",
    "plt.ylabel(\"Average computation time (ms)\")\n",
    "plt.xticks(range(1, N_MAX))\n",
    "plt.legend()\n",
    "plt.grid()"
   ]
  },
  {
   "cell_type": "code",
   "execution_count": null,
   "metadata": {
    "ExecuteTime": {
     "end_time": "2023-04-30T19:30:04.643966255Z",
     "start_time": "2023-04-30T19:30:04.622830036Z"
    }
   },
   "outputs": [],
   "source": [
    "# Sanity check\n",
    "c = Circuit(20)\n",
    "s = State(20)\n",
    "\n",
    "c.h(0)\n",
    "for i in range(1, 20):\n",
    "    c.cnot(0, i)\n",
    "\n",
    "c.compute(s, enable_numba=True)"
   ]
  },
  {
   "cell_type": "markdown",
   "metadata": {},
   "source": [
    "### Test Numba"
   ]
  },
  {
   "cell_type": "code",
   "execution_count": 5,
   "metadata": {
    "ExecuteTime": {
     "end_time": "2023-04-30T03:54:24.075699675Z",
     "start_time": "2023-04-30T03:54:24.032237451Z"
    }
   },
   "outputs": [],
   "source": [
    "c = Circuit(20)\n",
    "\n",
    "c.h(0)\n",
    "for i in range(1, 20):\n",
    "    c.cnot(0, i)\n",
    "\n",
    "def setup_state_and_compute(enable_numba):\n",
    "    s = State(20)\n",
    "    c.compute(s, enable_numba)"
   ]
  },
  {
   "cell_type": "code",
   "execution_count": 6,
   "metadata": {
    "ExecuteTime": {
     "end_time": "2023-04-30T03:54:24.485361401Z",
     "start_time": "2023-04-30T03:54:24.459100408Z"
    }
   },
   "outputs": [
    {
     "data": {
      "text/plain": [
       "182.52767828600008"
      ]
     },
     "execution_count": 6,
     "metadata": {},
     "output_type": "execute_result"
    }
   ],
   "source": [
    "timeit.timeit(lambda: setup_state_and_compute(True), number=10)"
   ]
  },
  {
   "cell_type": "code",
   "execution_count": 7,
   "metadata": {},
   "outputs": [
    {
     "data": {
      "text/plain": [
       "184.3060025019995"
      ]
     },
     "execution_count": 7,
     "metadata": {},
     "output_type": "execute_result"
    }
   ],
   "source": [
    "timeit.timeit(lambda: setup_state_and_compute(False), number=10)"
   ]
  },
  {
   "cell_type": "code",
   "execution_count": null,
   "metadata": {},
   "outputs": [],
   "source": []
  }
 ],
 "metadata": {
  "kernelspec": {
   "display_name": "Python 3 (ipykernel)",
   "language": "python",
   "name": "python3"
  },
  "language_info": {
   "codemirror_mode": {
    "name": "ipython",
    "version": 3
   },
   "file_extension": ".py",
   "mimetype": "text/x-python",
   "name": "python",
   "nbconvert_exporter": "python",
   "pygments_lexer": "ipython3",
   "version": "3.10.11"
  }
 },
 "nbformat": 4,
 "nbformat_minor": 1
}
